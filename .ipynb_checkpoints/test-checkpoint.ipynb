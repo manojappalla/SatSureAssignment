{
 "cells": [
  {
   "cell_type": "markdown",
   "id": "828ceff5",
   "metadata": {},
   "source": [
    "## Install libraries if not installed "
   ]
  },
  {
   "cell_type": "code",
   "execution_count": null,
   "id": "ab16b061",
   "metadata": {},
   "outputs": [],
   "source": [
    "# Uncomment below lines to install\n",
    "\n",
    "# pip install earthengine-api\n",
    "# pip install geemap"
   ]
  },
  {
   "cell_type": "markdown",
   "id": "cd1c449c",
   "metadata": {},
   "source": [
    "## Import all the libraries"
   ]
  },
  {
   "cell_type": "code",
   "execution_count": null,
   "id": "27ef7a2a",
   "metadata": {},
   "outputs": [],
   "source": [
    "# Earth engine needs authentication. Once authenticated, user can use the same token for a week.\n",
    "# But it should be initialized every time the user runs the code\n",
    "\n",
    "import ee\n",
    "ee.Initialize()\n",
    "# ee.Authenticate()"
   ]
  },
  {
   "cell_type": "code",
   "execution_count": null,
   "id": "8d8d3a8f",
   "metadata": {},
   "outputs": [],
   "source": [
    "import geemap\n",
    "\n",
    "# Sent2DownProcNDVI class is imported from sent2ndvi and an object is created\n",
    "from sent2ndvi import Sent2DownProcNDVI\n",
    "s2dpn = Sent2DownProcNDVI()"
   ]
  },
  {
   "cell_type": "markdown",
   "id": "9e01fd6a",
   "metadata": {},
   "source": [
    "## Load the shapefile"
   ]
  },
  {
   "cell_type": "code",
   "execution_count": null,
   "id": "53e8109e",
   "metadata": {},
   "outputs": [],
   "source": [
    "# load_shape_file function is accessed from the sent2ndvi module to load a shapefile and the shapefile is then\n",
    "# converted to a geometry\n",
    "\n",
    "vskp_city = s2dpn.load_shape_file('/Users/saimanojappalla/Desktop/SatSureAssignment/district shapefile/vskp_city.shp')\n",
    "vskp_geom = vskp_city.geometry()"
   ]
  },
  {
   "cell_type": "markdown",
   "id": "a38f1947",
   "metadata": {},
   "source": [
    "## Initialize all the parameters"
   ]
  },
  {
   "cell_type": "code",
   "execution_count": null,
   "id": "58945a98",
   "metadata": {},
   "outputs": [],
   "source": [
    "# The attributes inside the Sent2DownProcNDVI class in sent2ndvi module are accessed using the object and are \n",
    "# assigned values by the user\n",
    "\n",
    "s2dpn.AOI = ee.Geometry.Point(83.2185, 17.6868)\n",
    "s2dpn.START_DATE = '2022-05-01'\n",
    "s2dpn.END_DATE = '2022-09-01'\n",
    "s2dpn.CLOUD_FILTER = 60\n",
    "s2dpn.CLD_PRB_THRESH = 40\n",
    "s2dpn.NIR_DRK_THRESH = 0.15\n",
    "s2dpn.CLD_PRJ_DIST = 2\n",
    "s2dpn.BUFFER = 100"
   ]
  },
  {
   "cell_type": "markdown",
   "id": "6c76bdab",
   "metadata": {},
   "source": [
    "## Create a collection with Sentinel-2 surface reflectance and Cloud probability data"
   ]
  },
  {
   "cell_type": "code",
   "execution_count": null,
   "id": "ad4d0c57",
   "metadata": {},
   "outputs": [],
   "source": [
    "# This line of code imports the get_s2_sr_cld_col function from the sent2ndvi module and returns the image collection\n",
    "# based on the parameters input by the user\n",
    "\n",
    "coll = s2dpn.get_s2_sr_cld_col(s2dpn.AOI, s2dpn.START_DATE, s2dpn.END_DATE)"
   ]
  },
  {
   "cell_type": "markdown",
   "id": "22de5ff5",
   "metadata": {},
   "source": [
    "## Create a composite image by mapping the functions to apply cloud mask"
   ]
  },
  {
   "cell_type": "code",
   "execution_count": null,
   "id": "6bfffa53",
   "metadata": {},
   "outputs": [],
   "source": [
    "# This line of code imports the functions from the sent2ndvi module and returns the composite image after masking\n",
    "# the clouds\n",
    "\n",
    "s2_sr_median = (coll.map(s2dpn.add_cld_shdw_mask)\n",
    "                             .map(s2dpn.apply_cld_shdw_mask)\n",
    "                             .median())"
   ]
  },
  {
   "cell_type": "markdown",
   "id": "7e2de2b6",
   "metadata": {},
   "source": [
    "## Use Folium library to view the image on the map "
   ]
  },
  {
   "cell_type": "code",
   "execution_count": null,
   "id": "dca53e1f",
   "metadata": {},
   "outputs": [],
   "source": [
    "# Import the folium library.\n",
    "import folium\n",
    "\n",
    "# Define a method for displaying Earth Engine image tiles to a folium map.\n",
    "def add_ee_layer(self, ee_image_object, vis_params, name, show=True, opacity=1, min_zoom=0):\n",
    "    map_id_dict = ee.Image(ee_image_object).getMapId(vis_params)\n",
    "    folium.raster_layers.TileLayer(\n",
    "        tiles=map_id_dict['tile_fetcher'].url_format,\n",
    "        attr='Map Data &copy; <a href=\"https://earthengine.google.com/\">Google Earth Engine</a>',\n",
    "        name=name,\n",
    "        show=show,\n",
    "        opacity=opacity,\n",
    "        min_zoom=min_zoom,\n",
    "        overlay=True,\n",
    "        control=True\n",
    "        ).add_to(self)\n",
    "\n",
    "# Add the Earth Engine layer method to folium.\n",
    "folium.Map.add_ee_layer = add_ee_layer"
   ]
  },
  {
   "cell_type": "code",
   "execution_count": null,
   "id": "d5342c7a",
   "metadata": {
    "scrolled": true
   },
   "outputs": [],
   "source": [
    "# Create a folium map object.\n",
    "center = s2dpn.AOI.centroid(10).coordinates().reverse().getInfo()\n",
    "m = folium.Map(location=center, zoom_start=12)\n",
    "\n",
    "# Add layers to the folium map.\n",
    "m.add_ee_layer(s2_sr_median,\n",
    "                {'bands': ['B8', 'B4', 'B3'], 'min': 0, 'max': 2500, 'gamma': 1.1},\n",
    "                'S2 cloud-free mosaic', True, 1, 9)\n",
    "\n",
    "# Add a layer control panel to the map.\n",
    "m.add_child(folium.LayerControl())\n",
    "\n",
    "# Display the map.\n",
    "display(m)"
   ]
  },
  {
   "cell_type": "markdown",
   "id": "8aec2863",
   "metadata": {},
   "source": [
    "## NDVI"
   ]
  },
  {
   "cell_type": "code",
   "execution_count": null,
   "id": "330f2011",
   "metadata": {},
   "outputs": [],
   "source": [
    "# This line of code imports the ndvi function from the sent2ndvi module and returns the ndvi image\n",
    "\n",
    "ndvi = s2dpn.ndvi(s2_sr_median)"
   ]
  },
  {
   "cell_type": "markdown",
   "id": "86d2cae3",
   "metadata": {},
   "source": [
    "## Download"
   ]
  },
  {
   "cell_type": "code",
   "execution_count": null,
   "id": "a739f703",
   "metadata": {},
   "outputs": [],
   "source": [
    "# This line of code imports the download function from the sent2ndvi module and downloads the image\n",
    "\n",
    "s2dpn.download(ndvi, vskp_geom, 30, 'ndviimg.tif')"
   ]
  }
 ],
 "metadata": {
  "kernelspec": {
   "display_name": "Python 3 (ipykernel)",
   "language": "python",
   "name": "python3"
  },
  "language_info": {
   "codemirror_mode": {
    "name": "ipython",
    "version": 3
   },
   "file_extension": ".py",
   "mimetype": "text/x-python",
   "name": "python",
   "nbconvert_exporter": "python",
   "pygments_lexer": "ipython3",
   "version": "3.9.12"
  }
 },
 "nbformat": 4,
 "nbformat_minor": 5
}
