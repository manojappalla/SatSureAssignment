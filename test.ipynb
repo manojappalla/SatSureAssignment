{
 "cells": [
  {
   "cell_type": "markdown",
   "id": "828ceff5",
   "metadata": {},
   "source": [
    "## Install libraries if not installed "
   ]
  },
  {
   "cell_type": "code",
   "execution_count": 1,
   "id": "ab16b061",
   "metadata": {},
   "outputs": [],
   "source": [
    "# Uncomment below lines to install\n",
    "\n",
    "# pip install earthengine-api\n",
    "# pip install geemap\n",
    "# pip install folium"
   ]
  },
  {
   "cell_type": "markdown",
   "id": "cd1c449c",
   "metadata": {},
   "source": [
    "## Import all the libraries"
   ]
  },
  {
   "cell_type": "code",
   "execution_count": 2,
   "id": "27ef7a2a",
   "metadata": {},
   "outputs": [],
   "source": [
    "# Earth engine needs authentication. Once authenticated, user can use the same token for a week.\n",
    "# But it should be initialized every time the user runs the code\n",
    "\n",
    "import ee\n",
    "ee.Initialize()\n",
    "# ee.Authenticate()"
   ]
  },
  {
   "cell_type": "code",
   "execution_count": 3,
   "id": "8d8d3a8f",
   "metadata": {},
   "outputs": [],
   "source": [
    "import geemap\n",
    "\n",
    "# Sent2DownProcNDVI class is imported from sent2ndvi and an object is created\n",
    "from sent2ndvi import Sent2DownProcNDVI\n",
    "s2dpn = Sent2DownProcNDVI()"
   ]
  },
  {
   "cell_type": "markdown",
   "id": "9e01fd6a",
   "metadata": {},
   "source": [
    "## Load the shapefile"
   ]
  },
  {
   "cell_type": "code",
   "execution_count": 4,
   "id": "53e8109e",
   "metadata": {},
   "outputs": [],
   "source": [
    "# load_shape_file function is accessed from the sent2ndvi module to load a shapefile and the shapefile is then\n",
    "# converted to a geometry\n",
    "\n",
    "vskp_city = s2dpn.load_shape_file('/Users/saimanojappalla/Desktop/SatSureAssignment/district shapefile/vskp_city.shp')\n",
    "vskp_geom = vskp_city.geometry()"
   ]
  },
  {
   "cell_type": "markdown",
   "id": "a38f1947",
   "metadata": {},
   "source": [
    "## Initialize all the parameters"
   ]
  },
  {
   "cell_type": "code",
   "execution_count": 5,
   "id": "58945a98",
   "metadata": {},
   "outputs": [],
   "source": [
    "# The attributes inside the Sent2DownProcNDVI class in sent2ndvi module are accessed using the object and are \n",
    "# assigned values by the user\n",
    "\n",
    "s2dpn.AOI = ee.Geometry.Point(83.2185, 17.6868)\n",
    "s2dpn.START_DATE = '2022-05-01'\n",
    "s2dpn.END_DATE = '2022-09-01'\n",
    "s2dpn.CLOUD_FILTER = 60\n",
    "s2dpn.CLD_PRB_THRESH = 40\n",
    "s2dpn.NIR_DRK_THRESH = 0.15\n",
    "s2dpn.CLD_PRJ_DIST = 2\n",
    "s2dpn.BUFFER = 100"
   ]
  },
  {
   "cell_type": "markdown",
   "id": "6c76bdab",
   "metadata": {},
   "source": [
    "## Create a collection with Sentinel-2 surface reflectance and Cloud probability data"
   ]
  },
  {
   "cell_type": "code",
   "execution_count": 6,
   "id": "ad4d0c57",
   "metadata": {},
   "outputs": [],
   "source": [
    "# This line of code imports the get_s2_sr_cld_col function from the sent2ndvi module and returns the image collection\n",
    "# based on the parameters input by the user\n",
    "\n",
    "coll = s2dpn.get_s2_sr_cld_col(s2dpn.AOI, s2dpn.START_DATE, s2dpn.END_DATE)"
   ]
  },
  {
   "cell_type": "markdown",
   "id": "22de5ff5",
   "metadata": {},
   "source": [
    "## Create a composite image by mapping the functions to apply cloud mask"
   ]
  },
  {
   "cell_type": "code",
   "execution_count": 7,
   "id": "6bfffa53",
   "metadata": {},
   "outputs": [],
   "source": [
    "# This line of code imports the functions from the sent2ndvi module and returns the composite image after masking\n",
    "# the clouds\n",
    "\n",
    "s2_sr_median = s2dpn.cloud_masked_composite(coll)"
   ]
  },
  {
   "cell_type": "markdown",
   "id": "7e2de2b6",
   "metadata": {},
   "source": [
    "## Use Folium library to view the image on the map "
   ]
  },
  {
   "cell_type": "code",
   "execution_count": 8,
   "id": "dca53e1f",
   "metadata": {},
   "outputs": [],
   "source": [
    "# Import the folium library.\n",
    "import folium\n",
    "\n",
    "# Define a method for displaying Earth Engine image tiles to a folium map.\n",
    "def add_ee_layer(self, ee_image_object, vis_params, name, show=True, opacity=1, min_zoom=0):\n",
    "    map_id_dict = ee.Image(ee_image_object).getMapId(vis_params)\n",
    "    folium.raster_layers.TileLayer(\n",
    "        tiles=map_id_dict['tile_fetcher'].url_format,\n",
    "        attr='Map Data &copy; <a href=\"https://earthengine.google.com/\">Google Earth Engine</a>',\n",
    "        name=name,\n",
    "        show=show,\n",
    "        opacity=opacity,\n",
    "        min_zoom=min_zoom,\n",
    "        overlay=True,\n",
    "        control=True\n",
    "        ).add_to(self)\n",
    "\n",
    "# Add the Earth Engine layer method to folium.\n",
    "folium.Map.add_ee_layer = add_ee_layer"
   ]
  },
  {
   "cell_type": "code",
   "execution_count": 9,
   "id": "d5342c7a",
   "metadata": {
    "scrolled": true
   },
   "outputs": [
    {
     "data": {
      "text/html": [
       "<div style=\"width:100%;\"><div style=\"position:relative;width:100%;height:0;padding-bottom:60%;\"><span style=\"color:#565656\">Make this Notebook Trusted to load map: File -> Trust Notebook</span><iframe srcdoc=\"&lt;!DOCTYPE html&gt;\n",
       "&lt;html&gt;\n",
       "&lt;head&gt;\n",
       "    \n",
       "    &lt;meta http-equiv=&quot;content-type&quot; content=&quot;text/html; charset=UTF-8&quot; /&gt;\n",
       "    \n",
       "        &lt;script&gt;\n",
       "            L_NO_TOUCH = false;\n",
       "            L_DISABLE_3D = false;\n",
       "        &lt;/script&gt;\n",
       "    \n",
       "    &lt;style&gt;html, body {width: 100%;height: 100%;margin: 0;padding: 0;}&lt;/style&gt;\n",
       "    &lt;style&gt;#map {position:absolute;top:0;bottom:0;right:0;left:0;}&lt;/style&gt;\n",
       "    &lt;script src=&quot;https://cdn.jsdelivr.net/npm/leaflet@1.6.0/dist/leaflet.js&quot;&gt;&lt;/script&gt;\n",
       "    &lt;script src=&quot;https://code.jquery.com/jquery-1.12.4.min.js&quot;&gt;&lt;/script&gt;\n",
       "    &lt;script src=&quot;https://maxcdn.bootstrapcdn.com/bootstrap/3.2.0/js/bootstrap.min.js&quot;&gt;&lt;/script&gt;\n",
       "    &lt;script src=&quot;https://cdnjs.cloudflare.com/ajax/libs/Leaflet.awesome-markers/2.0.2/leaflet.awesome-markers.js&quot;&gt;&lt;/script&gt;\n",
       "    &lt;link rel=&quot;stylesheet&quot; href=&quot;https://cdn.jsdelivr.net/npm/leaflet@1.6.0/dist/leaflet.css&quot;/&gt;\n",
       "    &lt;link rel=&quot;stylesheet&quot; href=&quot;https://maxcdn.bootstrapcdn.com/bootstrap/3.2.0/css/bootstrap.min.css&quot;/&gt;\n",
       "    &lt;link rel=&quot;stylesheet&quot; href=&quot;https://maxcdn.bootstrapcdn.com/bootstrap/3.2.0/css/bootstrap-theme.min.css&quot;/&gt;\n",
       "    &lt;link rel=&quot;stylesheet&quot; href=&quot;https://maxcdn.bootstrapcdn.com/font-awesome/4.6.3/css/font-awesome.min.css&quot;/&gt;\n",
       "    &lt;link rel=&quot;stylesheet&quot; href=&quot;https://cdnjs.cloudflare.com/ajax/libs/Leaflet.awesome-markers/2.0.2/leaflet.awesome-markers.css&quot;/&gt;\n",
       "    &lt;link rel=&quot;stylesheet&quot; href=&quot;https://cdn.jsdelivr.net/gh/python-visualization/folium/folium/templates/leaflet.awesome.rotate.min.css&quot;/&gt;\n",
       "    \n",
       "            &lt;meta name=&quot;viewport&quot; content=&quot;width=device-width,\n",
       "                initial-scale=1.0, maximum-scale=1.0, user-scalable=no&quot; /&gt;\n",
       "            &lt;style&gt;\n",
       "                #map_a9890621569d6d7fece774af96877f91 {\n",
       "                    position: relative;\n",
       "                    width: 100.0%;\n",
       "                    height: 100.0%;\n",
       "                    left: 0.0%;\n",
       "                    top: 0.0%;\n",
       "                }\n",
       "            &lt;/style&gt;\n",
       "        \n",
       "&lt;/head&gt;\n",
       "&lt;body&gt;\n",
       "    \n",
       "    \n",
       "            &lt;div class=&quot;folium-map&quot; id=&quot;map_a9890621569d6d7fece774af96877f91&quot; &gt;&lt;/div&gt;\n",
       "        \n",
       "&lt;/body&gt;\n",
       "&lt;script&gt;\n",
       "    \n",
       "    \n",
       "            var map_a9890621569d6d7fece774af96877f91 = L.map(\n",
       "                &quot;map_a9890621569d6d7fece774af96877f91&quot;,\n",
       "                {\n",
       "                    center: [17.6868, 83.2185],\n",
       "                    crs: L.CRS.EPSG3857,\n",
       "                    zoom: 12,\n",
       "                    zoomControl: true,\n",
       "                    preferCanvas: false,\n",
       "                }\n",
       "            );\n",
       "\n",
       "            \n",
       "\n",
       "        \n",
       "    \n",
       "            var tile_layer_803eb6539687270ce134c12d30596fad = L.tileLayer(\n",
       "                &quot;https://{s}.tile.openstreetmap.org/{z}/{x}/{y}.png&quot;,\n",
       "                {&quot;attribution&quot;: &quot;Data by \\u0026copy; \\u003ca href=\\&quot;http://openstreetmap.org\\&quot;\\u003eOpenStreetMap\\u003c/a\\u003e, under \\u003ca href=\\&quot;http://www.openstreetmap.org/copyright\\&quot;\\u003eODbL\\u003c/a\\u003e.&quot;, &quot;detectRetina&quot;: false, &quot;maxNativeZoom&quot;: 18, &quot;maxZoom&quot;: 18, &quot;minZoom&quot;: 0, &quot;noWrap&quot;: false, &quot;opacity&quot;: 1, &quot;subdomains&quot;: &quot;abc&quot;, &quot;tms&quot;: false}\n",
       "            ).addTo(map_a9890621569d6d7fece774af96877f91);\n",
       "        \n",
       "    \n",
       "            var tile_layer_79e8d42bf76c59e0e0b3e91a9555b5ad = L.tileLayer(\n",
       "                &quot;https://earthengine.googleapis.com/v1alpha/projects/earthengine-legacy/maps/0ab34862c09de47f85dcf9d6cc44238f-8a562a5198dea0bc612068ea5195b3aa/tiles/{z}/{x}/{y}&quot;,\n",
       "                {&quot;attribution&quot;: &quot;Map Data \\u0026copy; \\u003ca href=\\&quot;https://earthengine.google.com/\\&quot;\\u003eGoogle Earth Engine\\u003c/a\\u003e&quot;, &quot;detectRetina&quot;: false, &quot;maxNativeZoom&quot;: 18, &quot;maxZoom&quot;: 18, &quot;minZoom&quot;: 9, &quot;noWrap&quot;: false, &quot;opacity&quot;: 1, &quot;subdomains&quot;: &quot;abc&quot;, &quot;tms&quot;: false}\n",
       "            ).addTo(map_a9890621569d6d7fece774af96877f91);\n",
       "        \n",
       "    \n",
       "            var layer_control_6ba635f778d86df7c8c7cebc1c41d39e = {\n",
       "                base_layers : {\n",
       "                    &quot;openstreetmap&quot; : tile_layer_803eb6539687270ce134c12d30596fad,\n",
       "                },\n",
       "                overlays :  {\n",
       "                    &quot;S2 cloud-free mosaic&quot; : tile_layer_79e8d42bf76c59e0e0b3e91a9555b5ad,\n",
       "                },\n",
       "            };\n",
       "            L.control.layers(\n",
       "                layer_control_6ba635f778d86df7c8c7cebc1c41d39e.base_layers,\n",
       "                layer_control_6ba635f778d86df7c8c7cebc1c41d39e.overlays,\n",
       "                {&quot;autoZIndex&quot;: true, &quot;collapsed&quot;: true, &quot;position&quot;: &quot;topright&quot;}\n",
       "            ).addTo(map_a9890621569d6d7fece774af96877f91);\n",
       "        \n",
       "&lt;/script&gt;\n",
       "&lt;/html&gt;\" style=\"position:absolute;width:100%;height:100%;left:0;top:0;border:none !important;\" allowfullscreen webkitallowfullscreen mozallowfullscreen></iframe></div></div>"
      ],
      "text/plain": [
       "<folium.folium.Map at 0x7fb01a7cfd00>"
      ]
     },
     "metadata": {},
     "output_type": "display_data"
    }
   ],
   "source": [
    "# Create a folium map object.\n",
    "center = s2dpn.AOI.centroid(10).coordinates().reverse().getInfo()\n",
    "m = folium.Map(location=center, zoom_start=12)\n",
    "\n",
    "# Add layers to the folium map.\n",
    "m.add_ee_layer(s2_sr_median,\n",
    "                {'bands': ['B8', 'B4', 'B3'], 'min': 0, 'max': 2500, 'gamma': 1.1},\n",
    "                'S2 cloud-free mosaic', True, 1, 9)\n",
    "\n",
    "# Add a layer control panel to the map.\n",
    "m.add_child(folium.LayerControl())\n",
    "\n",
    "# Display the map.\n",
    "display(m)"
   ]
  },
  {
   "cell_type": "markdown",
   "id": "8aec2863",
   "metadata": {},
   "source": [
    "## NDVI"
   ]
  },
  {
   "cell_type": "code",
   "execution_count": 10,
   "id": "330f2011",
   "metadata": {},
   "outputs": [],
   "source": [
    "# This line of code imports the ndvi function from the sent2ndvi module and returns the ndvi image\n",
    "\n",
    "ndvi = s2dpn.ndvi(s2_sr_median)"
   ]
  },
  {
   "cell_type": "markdown",
   "id": "86d2cae3",
   "metadata": {},
   "source": [
    "## Download"
   ]
  },
  {
   "cell_type": "code",
   "execution_count": 11,
   "id": "a739f703",
   "metadata": {},
   "outputs": [
    {
     "name": "stdout",
     "output_type": "stream",
     "text": [
      "Generating URL ...\n",
      "Downloading data from https://earthengine.googleapis.com/v1alpha/projects/earthengine-legacy/thumbnails/f8d33bf4e50ef5985564f381dcd7996f-2c7b8aefcd9012e2cfcf743d73b8a2da:getPixels\n",
      "Please wait ...\n",
      "Data downloaded to /Users/saimanojappalla/Desktop/SatSureAssignment/ndvi.tif\n"
     ]
    }
   ],
   "source": [
    "# This line of code imports the download function from the sent2ndvi module and downloads the image\n",
    "\n",
    "s2dpn.download(ndvi, vskp_geom, 30, 'ndvi.tif')"
   ]
  },
  {
   "cell_type": "code",
   "execution_count": null,
   "id": "905e590c",
   "metadata": {},
   "outputs": [],
   "source": []
  }
 ],
 "metadata": {
  "kernelspec": {
   "display_name": "Python 3 (ipykernel)",
   "language": "python",
   "name": "python3"
  },
  "language_info": {
   "codemirror_mode": {
    "name": "ipython",
    "version": 3
   },
   "file_extension": ".py",
   "mimetype": "text/x-python",
   "name": "python",
   "nbconvert_exporter": "python",
   "pygments_lexer": "ipython3",
   "version": "3.9.12"
  }
 },
 "nbformat": 4,
 "nbformat_minor": 5
}
